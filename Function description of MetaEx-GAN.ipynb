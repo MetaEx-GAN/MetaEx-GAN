{
 "cells": [
  {
   "cell_type": "code",
   "execution_count": 1,
   "metadata": {},
   "outputs": [
    {
     "ename": "KeyboardInterrupt",
     "evalue": "",
     "output_type": "error",
     "traceback": [
      "\u001b[0;31m---------------------------------------------------------------------------\u001b[0m",
      "\u001b[0;31mKeyboardInterrupt\u001b[0m                         Traceback (most recent call last)",
      "\u001b[0;32m<ipython-input-1-db97e8c6ee54>\u001b[0m in \u001b[0;36m<module>\u001b[0;34m\u001b[0m\n\u001b[1;32m      8\u001b[0m \u001b[0;32mimport\u001b[0m \u001b[0mos\u001b[0m\u001b[0;34m\u001b[0m\u001b[0;34m\u001b[0m\u001b[0m\n\u001b[1;32m      9\u001b[0m \u001b[0mos\u001b[0m\u001b[0;34m.\u001b[0m\u001b[0menviron\u001b[0m\u001b[0;34m[\u001b[0m\u001b[0;34m'CUDA_VISIBLE_DEVICES'\u001b[0m\u001b[0;34m]\u001b[0m\u001b[0;34m=\u001b[0m\u001b[0;34m'0'\u001b[0m\u001b[0;34m\u001b[0m\u001b[0;34m\u001b[0m\u001b[0m\n\u001b[0;32m---> 10\u001b[0;31m \u001b[0;32mimport\u001b[0m \u001b[0mtensorflow\u001b[0m \u001b[0;32mas\u001b[0m \u001b[0mtf\u001b[0m\u001b[0;34m\u001b[0m\u001b[0;34m\u001b[0m\u001b[0m\n\u001b[0m\u001b[1;32m     11\u001b[0m \u001b[0;32mfrom\u001b[0m \u001b[0mtensorflow\u001b[0m\u001b[0;34m.\u001b[0m\u001b[0mpython\u001b[0m\u001b[0;34m.\u001b[0m\u001b[0mclient\u001b[0m \u001b[0;32mimport\u001b[0m \u001b[0mdevice_lib\u001b[0m\u001b[0;34m\u001b[0m\u001b[0;34m\u001b[0m\u001b[0m\n\u001b[1;32m     12\u001b[0m \u001b[0;31m# print(device_lib.list_local_devices())\u001b[0m\u001b[0;34m\u001b[0m\u001b[0;34m\u001b[0m\u001b[0;34m\u001b[0m\u001b[0m\n",
      "\u001b[0;32m~/anaconda3/lib/python3.8/site-packages/tensorflow/__init__.py\u001b[0m in \u001b[0;36m<module>\u001b[0;34m\u001b[0m\n\u001b[1;32m     39\u001b[0m \u001b[0;32mimport\u001b[0m \u001b[0msys\u001b[0m \u001b[0;32mas\u001b[0m \u001b[0m_sys\u001b[0m\u001b[0;34m\u001b[0m\u001b[0;34m\u001b[0m\u001b[0m\n\u001b[1;32m     40\u001b[0m \u001b[0;34m\u001b[0m\u001b[0m\n\u001b[0;32m---> 41\u001b[0;31m \u001b[0;32mfrom\u001b[0m \u001b[0mtensorflow\u001b[0m\u001b[0;34m.\u001b[0m\u001b[0mpython\u001b[0m\u001b[0;34m.\u001b[0m\u001b[0mtools\u001b[0m \u001b[0;32mimport\u001b[0m \u001b[0mmodule_util\u001b[0m \u001b[0;32mas\u001b[0m \u001b[0m_module_util\u001b[0m\u001b[0;34m\u001b[0m\u001b[0;34m\u001b[0m\u001b[0m\n\u001b[0m\u001b[1;32m     42\u001b[0m \u001b[0;32mfrom\u001b[0m \u001b[0mtensorflow\u001b[0m\u001b[0;34m.\u001b[0m\u001b[0mpython\u001b[0m\u001b[0;34m.\u001b[0m\u001b[0mutil\u001b[0m\u001b[0;34m.\u001b[0m\u001b[0mlazy_loader\u001b[0m \u001b[0;32mimport\u001b[0m \u001b[0mLazyLoader\u001b[0m \u001b[0;32mas\u001b[0m \u001b[0m_LazyLoader\u001b[0m\u001b[0;34m\u001b[0m\u001b[0;34m\u001b[0m\u001b[0m\n\u001b[1;32m     43\u001b[0m \u001b[0;34m\u001b[0m\u001b[0m\n",
      "\u001b[0;32m~/anaconda3/lib/python3.8/site-packages/tensorflow/python/__init__.py\u001b[0m in \u001b[0;36m<module>\u001b[0;34m\u001b[0m\n\u001b[1;32m     62\u001b[0m \u001b[0;34m\u001b[0m\u001b[0m\n\u001b[1;32m     63\u001b[0m \u001b[0;31m# Framework\u001b[0m\u001b[0;34m\u001b[0m\u001b[0;34m\u001b[0m\u001b[0;34m\u001b[0m\u001b[0m\n\u001b[0;32m---> 64\u001b[0;31m \u001b[0;32mfrom\u001b[0m \u001b[0mtensorflow\u001b[0m\u001b[0;34m.\u001b[0m\u001b[0mpython\u001b[0m\u001b[0;34m.\u001b[0m\u001b[0mframework\u001b[0m\u001b[0;34m.\u001b[0m\u001b[0mframework_lib\u001b[0m \u001b[0;32mimport\u001b[0m \u001b[0;34m*\u001b[0m  \u001b[0;31m# pylint: disable=redefined-builtin\u001b[0m\u001b[0;34m\u001b[0m\u001b[0;34m\u001b[0m\u001b[0m\n\u001b[0m\u001b[1;32m     65\u001b[0m \u001b[0;32mfrom\u001b[0m \u001b[0mtensorflow\u001b[0m\u001b[0;34m.\u001b[0m\u001b[0mpython\u001b[0m\u001b[0;34m.\u001b[0m\u001b[0mframework\u001b[0m\u001b[0;34m.\u001b[0m\u001b[0mversions\u001b[0m \u001b[0;32mimport\u001b[0m \u001b[0;34m*\u001b[0m\u001b[0;34m\u001b[0m\u001b[0;34m\u001b[0m\u001b[0m\n\u001b[1;32m     66\u001b[0m \u001b[0;32mfrom\u001b[0m \u001b[0mtensorflow\u001b[0m\u001b[0;34m.\u001b[0m\u001b[0mpython\u001b[0m\u001b[0;34m.\u001b[0m\u001b[0mframework\u001b[0m \u001b[0;32mimport\u001b[0m \u001b[0mconfig\u001b[0m\u001b[0;34m\u001b[0m\u001b[0;34m\u001b[0m\u001b[0m\n",
      "\u001b[0;32m~/anaconda3/lib/python3.8/site-packages/tensorflow/python/framework/framework_lib.py\u001b[0m in \u001b[0;36m<module>\u001b[0;34m\u001b[0m\n\u001b[1;32m     50\u001b[0m \u001b[0;32mfrom\u001b[0m \u001b[0mtensorflow\u001b[0m\u001b[0;34m.\u001b[0m\u001b[0mpython\u001b[0m\u001b[0;34m.\u001b[0m\u001b[0mframework\u001b[0m\u001b[0;34m.\u001b[0m\u001b[0mrandom_seed\u001b[0m \u001b[0;32mimport\u001b[0m \u001b[0mset_random_seed\u001b[0m\u001b[0;34m\u001b[0m\u001b[0;34m\u001b[0m\u001b[0m\n\u001b[1;32m     51\u001b[0m \u001b[0;32mfrom\u001b[0m \u001b[0mtensorflow\u001b[0m\u001b[0;34m.\u001b[0m\u001b[0mpython\u001b[0m\u001b[0;34m.\u001b[0m\u001b[0mframework\u001b[0m\u001b[0;34m.\u001b[0m\u001b[0msparse_tensor\u001b[0m \u001b[0;32mimport\u001b[0m \u001b[0mconvert_to_tensor_or_sparse_tensor\u001b[0m\u001b[0;34m\u001b[0m\u001b[0;34m\u001b[0m\u001b[0m\n\u001b[0;32m---> 52\u001b[0;31m \u001b[0;32mfrom\u001b[0m \u001b[0mtensorflow\u001b[0m\u001b[0;34m.\u001b[0m\u001b[0mpython\u001b[0m\u001b[0;34m.\u001b[0m\u001b[0mframework\u001b[0m\u001b[0;34m.\u001b[0m\u001b[0mimporter\u001b[0m \u001b[0;32mimport\u001b[0m \u001b[0mimport_graph_def\u001b[0m\u001b[0;34m\u001b[0m\u001b[0;34m\u001b[0m\u001b[0m\n\u001b[0m\u001b[1;32m     53\u001b[0m \u001b[0;34m\u001b[0m\u001b[0m\n\u001b[1;32m     54\u001b[0m \u001b[0;31m# Utilities for working with Tensors\u001b[0m\u001b[0;34m\u001b[0m\u001b[0;34m\u001b[0m\u001b[0;34m\u001b[0m\u001b[0m\n",
      "\u001b[0;32m~/anaconda3/lib/python3.8/site-packages/tensorflow/python/framework/importer.py\u001b[0m in \u001b[0;36m<module>\u001b[0;34m\u001b[0m\n\u001b[1;32m     26\u001b[0m \u001b[0;32mfrom\u001b[0m \u001b[0mtensorflow\u001b[0m\u001b[0;34m.\u001b[0m\u001b[0mpython\u001b[0m\u001b[0;34m.\u001b[0m\u001b[0mframework\u001b[0m \u001b[0;32mimport\u001b[0m \u001b[0mdevice\u001b[0m \u001b[0;32mas\u001b[0m \u001b[0mpydev\u001b[0m\u001b[0;34m\u001b[0m\u001b[0;34m\u001b[0m\u001b[0m\n\u001b[1;32m     27\u001b[0m \u001b[0;32mfrom\u001b[0m \u001b[0mtensorflow\u001b[0m\u001b[0;34m.\u001b[0m\u001b[0mpython\u001b[0m\u001b[0;34m.\u001b[0m\u001b[0mframework\u001b[0m \u001b[0;32mimport\u001b[0m \u001b[0merrors\u001b[0m\u001b[0;34m\u001b[0m\u001b[0;34m\u001b[0m\u001b[0m\n\u001b[0;32m---> 28\u001b[0;31m \u001b[0;32mfrom\u001b[0m \u001b[0mtensorflow\u001b[0m\u001b[0;34m.\u001b[0m\u001b[0mpython\u001b[0m\u001b[0;34m.\u001b[0m\u001b[0mframework\u001b[0m \u001b[0;32mimport\u001b[0m \u001b[0mfunction\u001b[0m\u001b[0;34m\u001b[0m\u001b[0;34m\u001b[0m\u001b[0m\n\u001b[0m\u001b[1;32m     29\u001b[0m \u001b[0;32mfrom\u001b[0m \u001b[0mtensorflow\u001b[0m\u001b[0;34m.\u001b[0m\u001b[0mpython\u001b[0m\u001b[0;34m.\u001b[0m\u001b[0mframework\u001b[0m \u001b[0;32mimport\u001b[0m \u001b[0mop_def_registry\u001b[0m\u001b[0;34m\u001b[0m\u001b[0;34m\u001b[0m\u001b[0m\n\u001b[1;32m     30\u001b[0m \u001b[0;32mfrom\u001b[0m \u001b[0mtensorflow\u001b[0m\u001b[0;34m.\u001b[0m\u001b[0mpython\u001b[0m\u001b[0;34m.\u001b[0m\u001b[0mframework\u001b[0m \u001b[0;32mimport\u001b[0m \u001b[0mops\u001b[0m\u001b[0;34m\u001b[0m\u001b[0;34m\u001b[0m\u001b[0m\n",
      "\u001b[0;32m~/anaconda3/lib/python3.8/site-packages/tensorflow/python/framework/function.py\u001b[0m in \u001b[0;36m<module>\u001b[0;34m\u001b[0m\n\u001b[1;32m     35\u001b[0m \u001b[0;32mfrom\u001b[0m \u001b[0mtensorflow\u001b[0m\u001b[0;34m.\u001b[0m\u001b[0mpython\u001b[0m\u001b[0;34m.\u001b[0m\u001b[0mframework\u001b[0m \u001b[0;32mimport\u001b[0m \u001b[0mops\u001b[0m\u001b[0;34m\u001b[0m\u001b[0;34m\u001b[0m\u001b[0m\n\u001b[1;32m     36\u001b[0m \u001b[0;32mfrom\u001b[0m \u001b[0mtensorflow\u001b[0m\u001b[0;34m.\u001b[0m\u001b[0mpython\u001b[0m\u001b[0;34m.\u001b[0m\u001b[0mops\u001b[0m \u001b[0;32mimport\u001b[0m \u001b[0marray_ops\u001b[0m\u001b[0;34m\u001b[0m\u001b[0;34m\u001b[0m\u001b[0m\n\u001b[0;32m---> 37\u001b[0;31m \u001b[0;32mfrom\u001b[0m \u001b[0mtensorflow\u001b[0m\u001b[0;34m.\u001b[0m\u001b[0mpython\u001b[0m\u001b[0;34m.\u001b[0m\u001b[0mops\u001b[0m \u001b[0;32mimport\u001b[0m \u001b[0mresource_variable_ops\u001b[0m\u001b[0;34m\u001b[0m\u001b[0;34m\u001b[0m\u001b[0m\n\u001b[0m\u001b[1;32m     38\u001b[0m \u001b[0;32mfrom\u001b[0m \u001b[0mtensorflow\u001b[0m\u001b[0;34m.\u001b[0m\u001b[0mpython\u001b[0m\u001b[0;34m.\u001b[0m\u001b[0mops\u001b[0m \u001b[0;32mimport\u001b[0m \u001b[0mvariable_scope\u001b[0m \u001b[0;32mas\u001b[0m \u001b[0mvs\u001b[0m\u001b[0;34m\u001b[0m\u001b[0;34m\u001b[0m\u001b[0m\n\u001b[1;32m     39\u001b[0m \u001b[0;32mfrom\u001b[0m \u001b[0mtensorflow\u001b[0m\u001b[0;34m.\u001b[0m\u001b[0mpython\u001b[0m\u001b[0;34m.\u001b[0m\u001b[0mutil\u001b[0m \u001b[0;32mimport\u001b[0m \u001b[0mcompat\u001b[0m\u001b[0;34m\u001b[0m\u001b[0;34m\u001b[0m\u001b[0m\n",
      "\u001b[0;32m~/anaconda3/lib/python3.8/site-packages/tensorflow/python/ops/resource_variable_ops.py\u001b[0m in \u001b[0;36m<module>\u001b[0;34m\u001b[0m\n\u001b[1;32m     42\u001b[0m \u001b[0;32mfrom\u001b[0m \u001b[0mtensorflow\u001b[0m\u001b[0;34m.\u001b[0m\u001b[0mpython\u001b[0m\u001b[0;34m.\u001b[0m\u001b[0mops\u001b[0m \u001b[0;32mimport\u001b[0m \u001b[0mgen_resource_variable_ops\u001b[0m\u001b[0;34m\u001b[0m\u001b[0;34m\u001b[0m\u001b[0m\n\u001b[1;32m     43\u001b[0m \u001b[0;32mfrom\u001b[0m \u001b[0mtensorflow\u001b[0m\u001b[0;34m.\u001b[0m\u001b[0mpython\u001b[0m\u001b[0;34m.\u001b[0m\u001b[0mops\u001b[0m \u001b[0;32mimport\u001b[0m \u001b[0mgen_state_ops\u001b[0m\u001b[0;34m\u001b[0m\u001b[0;34m\u001b[0m\u001b[0m\n\u001b[0;32m---> 44\u001b[0;31m \u001b[0;32mfrom\u001b[0m \u001b[0mtensorflow\u001b[0m\u001b[0;34m.\u001b[0m\u001b[0mpython\u001b[0m\u001b[0;34m.\u001b[0m\u001b[0mops\u001b[0m \u001b[0;32mimport\u001b[0m \u001b[0mmath_ops\u001b[0m\u001b[0;34m\u001b[0m\u001b[0;34m\u001b[0m\u001b[0m\n\u001b[0m\u001b[1;32m     45\u001b[0m \u001b[0;32mfrom\u001b[0m \u001b[0mtensorflow\u001b[0m\u001b[0;34m.\u001b[0m\u001b[0mpython\u001b[0m\u001b[0;34m.\u001b[0m\u001b[0mops\u001b[0m \u001b[0;32mimport\u001b[0m \u001b[0mstate_ops\u001b[0m\u001b[0;34m\u001b[0m\u001b[0;34m\u001b[0m\u001b[0m\n\u001b[1;32m     46\u001b[0m \u001b[0;32mfrom\u001b[0m \u001b[0mtensorflow\u001b[0m\u001b[0;34m.\u001b[0m\u001b[0mpython\u001b[0m\u001b[0;34m.\u001b[0m\u001b[0mops\u001b[0m \u001b[0;32mimport\u001b[0m \u001b[0mvariables\u001b[0m\u001b[0;34m\u001b[0m\u001b[0;34m\u001b[0m\u001b[0m\n",
      "\u001b[0;32m~/anaconda3/lib/python3.8/site-packages/tensorflow/python/ops/math_ops.py\u001b[0m in \u001b[0;36m<module>\u001b[0;34m\u001b[0m\n\u001b[1;32m     87\u001b[0m \u001b[0;32mfrom\u001b[0m \u001b[0mtensorflow\u001b[0m\u001b[0;34m.\u001b[0m\u001b[0mpython\u001b[0m\u001b[0;34m.\u001b[0m\u001b[0mops\u001b[0m \u001b[0;32mimport\u001b[0m \u001b[0mgen_data_flow_ops\u001b[0m\u001b[0;34m\u001b[0m\u001b[0;34m\u001b[0m\u001b[0m\n\u001b[1;32m     88\u001b[0m \u001b[0;32mfrom\u001b[0m \u001b[0mtensorflow\u001b[0m\u001b[0;34m.\u001b[0m\u001b[0mpython\u001b[0m\u001b[0;34m.\u001b[0m\u001b[0mops\u001b[0m \u001b[0;32mimport\u001b[0m \u001b[0mgen_math_ops\u001b[0m\u001b[0;34m\u001b[0m\u001b[0;34m\u001b[0m\u001b[0m\n\u001b[0;32m---> 89\u001b[0;31m \u001b[0;32mfrom\u001b[0m \u001b[0mtensorflow\u001b[0m\u001b[0;34m.\u001b[0m\u001b[0mpython\u001b[0m\u001b[0;34m.\u001b[0m\u001b[0mops\u001b[0m \u001b[0;32mimport\u001b[0m \u001b[0mgen_nn_ops\u001b[0m\u001b[0;34m\u001b[0m\u001b[0;34m\u001b[0m\u001b[0m\n\u001b[0m\u001b[1;32m     90\u001b[0m \u001b[0;32mfrom\u001b[0m \u001b[0mtensorflow\u001b[0m\u001b[0;34m.\u001b[0m\u001b[0mpython\u001b[0m\u001b[0;34m.\u001b[0m\u001b[0mops\u001b[0m \u001b[0;32mimport\u001b[0m \u001b[0mgen_sparse_ops\u001b[0m\u001b[0;34m\u001b[0m\u001b[0;34m\u001b[0m\u001b[0m\n\u001b[1;32m     91\u001b[0m \u001b[0;31m# go/tf-wildcard-import\u001b[0m\u001b[0;34m\u001b[0m\u001b[0;34m\u001b[0m\u001b[0;34m\u001b[0m\u001b[0m\n",
      "\u001b[0;32m~/anaconda3/lib/python3.8/site-packages/tensorflow/python/ops/gen_nn_ops.py\u001b[0m in \u001b[0;36m<module>\u001b[0;34m\u001b[0m\n\u001b[1;32m   4193\u001b[0m   \u001b[0;32mreturn\u001b[0m \u001b[0m_result\u001b[0m\u001b[0;34m\u001b[0m\u001b[0;34m\u001b[0m\u001b[0m\n\u001b[1;32m   4194\u001b[0m \u001b[0;34m\u001b[0m\u001b[0m\n\u001b[0;32m-> 4195\u001b[0;31m _FusedBatchNormV3Output = collections.namedtuple(\n\u001b[0m\u001b[1;32m   4196\u001b[0m     \u001b[0;34m\"FusedBatchNormV3\"\u001b[0m\u001b[0;34m,\u001b[0m\u001b[0;34m\u001b[0m\u001b[0;34m\u001b[0m\u001b[0m\n\u001b[1;32m   4197\u001b[0m     [\"y\", \"batch_mean\", \"batch_variance\", \"reserve_space_1\", \"reserve_space_2\", \"reserve_space_3\"])\n",
      "\u001b[0;32m~/anaconda3/lib/python3.8/collections/__init__.py\u001b[0m in \u001b[0;36mnamedtuple\u001b[0;34m(typename, field_names, rename, defaults, module)\u001b[0m\n\u001b[1;32m    392\u001b[0m     \u001b[0mnamespace\u001b[0m \u001b[0;34m=\u001b[0m \u001b[0;34m{\u001b[0m\u001b[0;34m'_tuple_new'\u001b[0m\u001b[0;34m:\u001b[0m \u001b[0mtuple_new\u001b[0m\u001b[0;34m,\u001b[0m \u001b[0;34m'__name__'\u001b[0m\u001b[0;34m:\u001b[0m \u001b[0;34mf'namedtuple_{typename}'\u001b[0m\u001b[0;34m}\u001b[0m\u001b[0;34m\u001b[0m\u001b[0;34m\u001b[0m\u001b[0m\n\u001b[1;32m    393\u001b[0m     \u001b[0;31m# Note: exec() has the side-effect of interning the field names\u001b[0m\u001b[0;34m\u001b[0m\u001b[0;34m\u001b[0m\u001b[0;34m\u001b[0m\u001b[0m\n\u001b[0;32m--> 394\u001b[0;31m     \u001b[0mexec\u001b[0m\u001b[0;34m(\u001b[0m\u001b[0ms\u001b[0m\u001b[0;34m,\u001b[0m \u001b[0mnamespace\u001b[0m\u001b[0;34m)\u001b[0m\u001b[0;34m\u001b[0m\u001b[0;34m\u001b[0m\u001b[0m\n\u001b[0m\u001b[1;32m    395\u001b[0m     \u001b[0m__new__\u001b[0m \u001b[0;34m=\u001b[0m \u001b[0mnamespace\u001b[0m\u001b[0;34m[\u001b[0m\u001b[0;34m'__new__'\u001b[0m\u001b[0;34m]\u001b[0m\u001b[0;34m\u001b[0m\u001b[0;34m\u001b[0m\u001b[0m\n\u001b[1;32m    396\u001b[0m     \u001b[0m__new__\u001b[0m\u001b[0;34m.\u001b[0m\u001b[0m__doc__\u001b[0m \u001b[0;34m=\u001b[0m \u001b[0;34mf'Create new instance of {typename}({arg_list})'\u001b[0m\u001b[0;34m\u001b[0m\u001b[0;34m\u001b[0m\u001b[0m\n",
      "\u001b[0;32m<string>\u001b[0m in \u001b[0;36m<module>\u001b[0;34m\u001b[0m\n",
      "\u001b[0;31mKeyboardInterrupt\u001b[0m: "
     ]
    }
   ],
   "source": [
    "#!/usr/bin/env python3\n",
    "# -*- coding: utf-8 -*-\n",
    "\"\"\"\n",
    "Created on Thu Oct 12 12:04:31 2017\n",
    "\n",
    "@author: gama\n",
    "\"\"\"\n",
    "import os\n",
    "os.environ['CUDA_VISIBLE_DEVICES']='0'\n",
    "import tensorflow as tf\n",
    "from tensorflow.python.client import device_lib\n",
    "# print(device_lib.list_local_devices())\n",
    "gpus = tf.config.experimental.list_physical_devices('GPU')\n",
    "if gpus:\n",
    "    try:\n",
    "        # Currently, memory growth needs to be the same across GPUs\n",
    "        for gpu in gpus:\n",
    "            tf.config.experimental.set_memory_growth(gpu, True)\n",
    "        logical_gpus = tf.config.experimental.list_logical_devices('GPU')\n",
    "#         print(len(gpus), \"Physical GPUs,\", len(logical_gpus), \"Logical GPUs\")\n",
    "    except RuntimeError as e:\n",
    "        print(e)\n",
    "else:\n",
    "    print('No GPU!!')\n",
    "tf.config.set_soft_device_placement(True)\n",
    "from tensorflow.keras.models import Model,load_model\n",
    "from tensorflow.keras.layers import Embedding\n",
    "from tensorflow.keras.layers import Input,Dense,Reshape,concatenate,Flatten,Activation,Permute,multiply\n",
    "from tensorflow.keras.layers import GRU,Conv1D,GlobalMaxPooling1D,TimeDistributed,RepeatVector,LSTM,MaxPooling1D\n",
    "from tensorflow.keras import optimizers\n",
    "from tensorflow.keras.callbacks import EarlyStopping\n",
    "from tensorflow.keras.layers import Lambda,Dropout\n",
    "from tensorflow.keras.layers import BatchNormalization"
   ]
  },
  {
   "cell_type": "code",
   "execution_count": null,
   "metadata": {},
   "outputs": [],
   "source": [
    "import pickle\n",
    "import numpy as np\n",
    "import random\n",
    "from tqdm import tqdm,tqdm_notebook\n",
    "import json\n",
    "from sklearn.metrics import f1_score,confusion_matrix,recall_score\n",
    "import itertools\n",
    "from functools import reduce\n",
    "from tqdm.notebook import trange"
   ]
  },
  {
   "cell_type": "code",
   "execution_count": null,
   "metadata": {},
   "outputs": [],
   "source": [
    "max_length=20\n",
    "num_words=5000\n",
    "embedding_dict=num_words\n",
    "batch_size=64\n",
    "start_label=0\n",
    "MLE_epoch=100\n",
    "pre_d_epoch=100\n",
    "adv_step=100"
   ]
  },
  {
   "cell_type": "code",
   "execution_count": null,
   "metadata": {},
   "outputs": [],
   "source": [
    "def getoracle():\n",
    "    dim=32\n",
    "    input1 = Input(shape=(max_length,))\n",
    "    emb=Embedding(num_words+1,dim)\n",
    "    context=emb(input1)\n",
    "    LSTM_input = LSTM(dim,return_sequences=True)(context)\n",
    "    predict = Dense(num_words,activation=\"softmax\")(LSTM_input)\n",
    "    model = Model(inputs=input1, outputs=predict)\n",
    "    return model\n",
    "def getG():\n",
    "    dim=32\n",
    "    input1 = Input(shape=(max_length,))\n",
    "    emb=Embedding(num_words+1,dim)\n",
    "    context=emb(input1)\n",
    "    LSTM_input = LSTM(dim,return_sequences=True)(context)\n",
    "    predict = Dense(num_words,activation=\"softmax\")(LSTM_input)\n",
    "    model = Model(inputs=input1, outputs=predict)\n",
    "    return model\n",
    "def getD():\n",
    "    dim=64\n",
    "    resp = Input((max_length,))\n",
    "    embedding =Embedding(num_words,\n",
    "                         dim,\n",
    "                         mask_zero=False,\n",
    "                         input_length=(max_length),\n",
    "                         trainable = True)\n",
    "    resp_emb = embedding(resp)\n",
    "    context = Conv1D(dim*2,5)(resp_emb)\n",
    "    context=BatchNormalization()(context)\n",
    "    context = GlobalMaxPooling1D()(context)\n",
    "    #context= LSTM(wv_dim)(resp_emb)\n",
    "    #context= LayerNormalization()(context)\n",
    "    scalar = Dense(1, activation = 'sigmoid')(context)\n",
    "    model = Model(\n",
    "        resp,\n",
    "        scalar\n",
    "    )\n",
    "    return model"
   ]
  },
  {
   "cell_type": "code",
   "execution_count": null,
   "metadata": {},
   "outputs": [],
   "source": [
    "def oracle_loss():\n",
    "    decoder_eva, teacher_eva  = inference(\n",
    "        g_model, \n",
    "        num_data = 500, \n",
    "        batch_size = 64,    \n",
    "    )\n",
    "    nll_oralcle_loss=oracle.evaluate(decoder_eva,teacher_eva,verbose=0)\n",
    "    return nll_oralcle_loss[0]"
   ]
  },
  {
   "cell_type": "code",
   "execution_count": null,
   "metadata": {},
   "outputs": [],
   "source": [
    "\n",
    "def inference(\n",
    "    model, \n",
    "    inpData = None,\n",
    "    start_on = 0,\n",
    "    end_on = max_length,\n",
    "    num_data = 20000, \n",
    "    batch_size = 64,\n",
    "    que_pad = max_length,\n",
    "):\n",
    "    # Initialize\n",
    "    num_batch = (num_data-1)//batch_size +1\n",
    "    resp_pred_list = None\n",
    "    in_batch_list = None\n",
    "    the_first = True\n",
    "    idx = np.arange(num_words)\n",
    "    for b in range(num_batch):\n",
    "        in_batch = np.zeros((batch_size, que_pad), dtype = int)\n",
    "        if start_on == 0:\n",
    "            in_batch[:,0] = start_label#embedding_dict['BOS']\n",
    "        else:\n",
    "            in_batch = inpData[b*batch_size:(b+1)*batch_size]\n",
    "        resp_pred = np.zeros((batch_size, que_pad), dtype = int)\n",
    "        # Generate the sequence recurrsively.\n",
    "        for i in range(start_on, end_on):\n",
    "            # Run\n",
    "            resp_pred_wv = model.predict(in_batch)\n",
    "            the_last = resp_pred_wv[:,i]\n",
    "            the_last = np.array([np.random.choice(idx, p=i) for i in the_last])\n",
    "            try:\n",
    "                resp_pred[:,i] = the_last\n",
    "                in_batch[:,i+1] = the_last\n",
    "            except:\n",
    "                resp_pred[:,i] = the_last\n",
    "        for i in range(len(resp_pred)):\n",
    "            try:\n",
    "                index = list(resp_pred[i]).index(6000)#embedding_dict['EOS'])\n",
    "            except:\n",
    "                continue\n",
    "            resp_pred[i,index+1:] = 0\n",
    "            in_batch[i,index+1:] = 0\n",
    "        if the_first:\n",
    "            resp_pred_list = resp_pred\n",
    "            in_batch_list = in_batch\n",
    "            the_first = False\n",
    "        else:\n",
    "            resp_pred_list = np.vstack((resp_pred_list, resp_pred))\n",
    "            in_batch_list = np.vstack((in_batch_list, in_batch))        \n",
    "    resp_pred_list = resp_pred_list[:num_data]\n",
    "    in_batch_list = in_batch_list[:num_data]\n",
    "    if start_on != 0:\n",
    "        resp_pred_list[:,:start_on] = inpData[:,1:start_on+1]\n",
    "        in_batch_list[:, :start_on+1] = inpData[:,:start_on+1]\n",
    "    return resp_pred_list, in_batch_list#prediction,decoder input\n",
    "def model_g_predict_batch(model, _inp_list, batch_size, num_data, step, **kwargs):\n",
    "    is_first = 1\n",
    "    y_out = None\n",
    "    for i in range(0, num_data, batch_size):\n",
    "        y = model.predict([_inp[i:i+batch_size] for _inp in _inp_list], **kwargs)[:,step]\n",
    "        if is_first:\n",
    "            is_first = 0\n",
    "            y_out = y\n",
    "        else:\n",
    "            y_out = np.vstack((y_out, y))\n",
    "    return y_out\n",
    "\n",
    "def model_predict_batch(model, _inp_list, batch_size, num_data, **kwargs):\n",
    "    y_out = np.vstack(\n",
    "        [ model.predict([_inp[i:i+batch_size] for _inp in _inp_list], **kwargs) \n",
    "         for i in range(0, num_data, batch_size)]\n",
    "    )\n",
    "    return y_out\n",
    "\n",
    "def regs_mcmc(model_g, model_d, de_mcmc = None, candidate = 16, start_at = 0, beam = 1):\n",
    "    # Initialize\n",
    "    y_mcmc = None\n",
    "    r_out = None\n",
    "    que_pad=max_length\n",
    "    if isinstance(de_mcmc, type(None)):\n",
    "        de_mcmc = np.zeros((1, que_pad), dtype = int)\n",
    "        de_mcmc[:,0] = start_label\n",
    "    y_mcmc = np.zeros((1, que_pad), dtype = int)\n",
    "    y_mcmc[0,:start_at] = de_mcmc[0, 1:start_at+1]#fix the previous step\n",
    "    # It determines which word to pass down.\n",
    "    beam_list = np.ones(que_pad, dtype = int)*beam\n",
    "    beam_list[:start_at+1] = 1    \n",
    "    revC = num_words - candidate -1\n",
    "    # bcList stands for beam-candidate list\n",
    "    bcList = []\n",
    "    for i in range(que_pad):\n",
    "        if i < start_at:\n",
    "            bcList.append([])\n",
    "        elif i == start_at:\n",
    "            bcList.append([revC])\n",
    "        elif i > start_at:\n",
    "            bcList.append(list(range(num_words-beam_list[i], num_words)))\n",
    "        else:\n",
    "            print('Warning')\n",
    "    # Generate sequences using MCMC\n",
    "    for t in range(start_at, que_pad):\n",
    "        to_expand = beam_list[t]\n",
    "        the_last = model_g_predict_batch(\n",
    "            model_g, \n",
    "            [de_mcmc], \n",
    "            batch_size = 512, \n",
    "            num_data = len(de_mcmc), \n",
    "            step = t,\n",
    "        )\n",
    "        most_possible = np.argsort(the_last, axis = 1)\n",
    "        most_possible = np.transpose(\n",
    "            most_possible[:,bcList[t]]).reshape(\n",
    "            reduce(lambda x,y: x*y, beam_list[:t+1])\n",
    "        )\n",
    "        de_mcmc = np.tile(de_mcmc, (to_expand, 1))\n",
    "        y_mcmc = np.tile(y_mcmc, (to_expand, 1))\n",
    "        y_mcmc[:,t] = most_possible\n",
    "        if t+1 < max_length: #10? \n",
    "            de_mcmc[:,t+1] = most_possible\n",
    "    # Rank all synthetic sequences\n",
    "    de_in = de_mcmc[-1,start_at]\n",
    "    y_out = y_mcmc[-1,start_at]\n",
    "    r_mcmc = model_predict_batch(model_d, [y_mcmc], batch_size = 512, num_data = len(y_mcmc))\n",
    "    r_out = np.mean(r_mcmc)\n",
    "    # Rank each tokens\n",
    "    return de_in, y_out, r_out\n",
    "def regs(model_g, model_d, candidate = 64, beam = 1):\n",
    "    que_pad=max_length\n",
    "    de_in = np.zeros((candidate*que_pad, que_pad), dtype = int)\n",
    "    de_in[:,0] = start_label\n",
    "    y_out = np.zeros((candidate*que_pad, que_pad), dtype = int)\n",
    "    r_out = np.zeros((candidate*que_pad, que_pad))\n",
    "    for q in trange(que_pad):\n",
    "        if q > 0:\n",
    "            # Set the previous token by the stochastic one.\n",
    "            y_stochastic, de_stochastic = inference(model_g, num_data = 1)\n",
    "            de_in[candidate*q:, :q+1] = de_stochastic[0, :q+1]\n",
    "            y_out[candidate*q:, :q] = y_stochastic[0, :q]\n",
    "            r_out[candidate*q:, :q] = 0\n",
    "            #r_out[candidate*q:, :q] = 1\n",
    "        for c in range(candidate):\n",
    "            row = q*candidate + c\n",
    "            _, y_tmp, r_tmp = regs_mcmc(\n",
    "                model_g,\n",
    "                model_d,\n",
    "                de_in[row].reshape((1,-1)),\n",
    "                candidate = c,\n",
    "                start_at = q,\n",
    "                beam = beam,\n",
    "            )\n",
    "            y_out[row,q] = y_tmp\n",
    "            r_out[row,q] = r_tmp\n",
    "        # Variance reducing\n",
    "        r_mean = np.mean(r_out[q*candidate:(q+1)*candidate, q])\n",
    "        r_out[q*candidate:(q+1)*candidate, q] = r_out[q*candidate:(q+1)*candidate, q] - r_mean\n",
    "    return de_in, y_out, r_out\n",
    "def estimate_reward(g_model):\n",
    "    y_fake_batch, x_fake_batch = inference(           \n",
    "         g_model, \n",
    "         num_data = 128, \n",
    "         batch_size = 64,\n",
    "     )\n",
    "    G_reward=d_model.predict(np.array(y_fake_batch),batch_size=32)\n",
    "    G_reward=np.mean(G_reward,axis=0)[0]\n",
    "    print(G_reward)\n",
    "    return G_reward"
   ]
  },
  {
   "cell_type": "code",
   "execution_count": null,
   "metadata": {},
   "outputs": [],
   "source": [
    "oracle=getoracle()\n",
    "oracle.compile(loss='sparse_categorical_crossentropy', optimizer='adam',metrics=['accuracy'])"
   ]
  },
  {
   "cell_type": "code",
   "execution_count": null,
   "metadata": {},
   "outputs": [],
   "source": [
    "teacher_pred, decoder_pred = inference(\n",
    "    oracle, \n",
    "    num_data = 20000, \n",
    "    batch_size = 64,    \n",
    ")"
   ]
  },
  {
   "cell_type": "code",
   "execution_count": null,
   "metadata": {},
   "outputs": [],
   "source": [
    "print(teacher_pred.shape,decoder_pred.shape)"
   ]
  },
  {
   "cell_type": "code",
   "execution_count": null,
   "metadata": {},
   "outputs": [],
   "source": [
    "decoder_train=decoder_pred[:10000] \n",
    "teacher_train=teacher_pred[:10000]\n",
    "decoder_vali=decoder_pred[10000:] \n",
    "teacher_vali=teacher_pred[10000:]"
   ]
  },
  {
   "cell_type": "markdown",
   "metadata": {},
   "source": [
    "## MLE-pretraining"
   ]
  },
  {
   "cell_type": "code",
   "execution_count": null,
   "metadata": {},
   "outputs": [],
   "source": [
    "g_model=getG()\n",
    "g_model.compile(loss='sparse_categorical_crossentropy', optimizer='adam',metrics=['accuracy'])\n",
    "for i in range(MLE_epoch):\n",
    "    g_model.fit(decoder_train,\n",
    "            teacher_train, \n",
    "            epochs=1, \n",
    "            batch_size=64,\n",
    "            verbose=0)\n",
    "    g_loss, _ = g_model.evaluate(decoder_vali, teacher_vali, verbose = 0)\n",
    "    o_loss=oracle_loss()\n",
    "    print(g_loss,o_loss)"
   ]
  },
  {
   "cell_type": "code",
   "execution_count": null,
   "metadata": {},
   "outputs": [],
   "source": [
    "g_model.save_weights('2021/NLL.h5')\n",
    "g_model=getG()\n",
    "g_model.compile(loss='sparse_categorical_crossentropy', optimizer='adam',metrics=['accuracy'])\n",
    "g_model.load_weights('2021/NLL.h5')\n",
    "d_model=getD()\n",
    "d_model.compile('adam',loss='BinaryCrossentropy',metrics=['accuracy'])\n",
    "e_model=getG()\n",
    "e_model.compile(loss='sparse_categorical_crossentropy', optimizer='adam',metrics=['accuracy'])\n",
    "e_model.load_weights('2021/NLL.h5')"
   ]
  },
  {
   "cell_type": "code",
   "execution_count": null,
   "metadata": {},
   "outputs": [],
   "source": [
    "batch_size = 64\n",
    "exploration_epoch=4\n",
    "minibatch_size = batch_size//4\n",
    "epoch = 300\n",
    "num_minibatch = int(len(teacher_train)//minibatch_size)\n",
    "num_batch = int(len(teacher_train)//batch_size)\n",
    "print(len(teacher_train))"
   ]
  },
  {
   "cell_type": "markdown",
   "metadata": {},
   "source": [
    "# MetaEx-GAN"
   ]
  },
  {
   "cell_type": "markdown",
   "metadata": {},
   "source": [
    "### MetaEx_GAN Train D"
   ]
  },
  {
   "cell_type": "code",
   "execution_count": null,
   "metadata": {},
   "outputs": [],
   "source": [
    "g_loss, _ = g_model.evaluate(decoder_vali, teacher_vali, verbose = 2)\n",
    "best_weight=[g_loss]\n",
    "\n",
    "print(\"pre-train d-step\")\n",
    "print('d-step')    \n",
    "for d in trange(pre_d_epoch):\n",
    "    y_fake_batch, x_fake_batch = inference(           \n",
    "         g_model, \n",
    "         num_data = minibatch_size, \n",
    "         batch_size = minibatch_size,\n",
    "     )\n",
    "    seed=np.random.randint(0,num_minibatch-1)\n",
    "    d_model.fit(np.concatenate([teacher_train[minibatch_size*seed:minibatch_size*seed+minibatch_size],y_fake_batch]),\n",
    "                                np.concatenate([[[1]]*minibatch_size,[[0]]*minibatch_size]),\n",
    "                                epochs=1,\n",
    "                                batch_size=32,verbose = 0)"
   ]
  },
  {
   "cell_type": "markdown",
   "metadata": {},
   "source": [
    "### G reward"
   ]
  },
  {
   "cell_type": "code",
   "execution_count": null,
   "metadata": {},
   "outputs": [],
   "source": [
    "reward_now=estimate_reward(g_model)"
   ]
  },
  {
   "cell_type": "markdown",
   "metadata": {},
   "source": [
    "### MetaEx_GAN Train G"
   ]
  },
  {
   "cell_type": "markdown",
   "metadata": {},
   "source": [
    "#### MC-Search"
   ]
  },
  {
   "cell_type": "code",
   "execution_count": null,
   "metadata": {},
   "outputs": [],
   "source": [
    "print(\"g-step\")\n",
    "print(\"rollout\")\n",
    "de_in_mcmc, y_out_mcmc, r_out_mcmc = regs(\n",
    "    e_model, ##\n",
    "    d_model, \n",
    ")"
   ]
  },
  {
   "cell_type": "markdown",
   "metadata": {},
   "source": [
    "#### Policy gradient {update Generator}"
   ]
  },
  {
   "cell_type": "code",
   "execution_count": null,
   "metadata": {},
   "outputs": [],
   "source": [
    "print(\"policy update G\")\n",
    "g_model.fit(de_in_mcmc,\n",
    "            y_out_mcmc,\n",
    "            sample_weight=r_out_mcmc,\n",
    "            batch_size=batch_size*max_length,\n",
    "            epochs=1,verbose = 2)\n",
    "g_model.fit(decoder_train,\n",
    "                 teacher_train, \n",
    "                 batch_size=batch_size//explo,\n",
    "                 epochs=1,\n",
    "                 verbose = 2)"
   ]
  },
  {
   "cell_type": "markdown",
   "metadata": {},
   "source": [
    "#### G_reward_new"
   ]
  },
  {
   "cell_type": "code",
   "execution_count": null,
   "metadata": {},
   "outputs": [],
   "source": [
    "reward_new=estimate_reward(g_model)"
   ]
  },
  {
   "cell_type": "markdown",
   "metadata": {},
   "source": [
    "#### Meta-Reward"
   ]
  },
  {
   "cell_type": "code",
   "execution_count": null,
   "metadata": {},
   "outputs": [],
   "source": [
    "meta_reward=G_reward_new-G_reward_now"
   ]
  },
  {
   "cell_type": "code",
   "execution_count": null,
   "metadata": {},
   "outputs": [],
   "source": [
    "for key_i,i in enumerate(r_out_mcmc):\n",
    "    for key_j,j in enumerate(i):\n",
    "        if j!=0.:\n",
    "            r_out_mcmc[key_i][key_j]=meta_reward            "
   ]
  },
  {
   "cell_type": "markdown",
   "metadata": {},
   "source": [
    "#### Backtracking"
   ]
  },
  {
   "cell_type": "code",
   "execution_count": null,
   "metadata": {},
   "outputs": [],
   "source": [
    "g_model.load_weights('2021/temp_g.h5')"
   ]
  },
  {
   "cell_type": "markdown",
   "metadata": {},
   "source": [
    "### Meta-policy gradient {update the explorer}"
   ]
  },
  {
   "cell_type": "code",
   "execution_count": null,
   "metadata": {},
   "outputs": [],
   "source": [
    "e_model.fit(de_in_mcmc,\n",
    "            y_out_mcmc,\n",
    "            sample_weight=r_out_mcmc,\n",
    "            batch_size=batch_size*max_length,\n",
    "            epochs=1,verbose = 2)"
   ]
  },
  {
   "cell_type": "markdown",
   "metadata": {},
   "source": [
    "## fully training with Backtracking and exploration epoch"
   ]
  },
  {
   "cell_type": "code",
   "execution_count": null,
   "metadata": {},
   "outputs": [],
   "source": [
    "g_loss, _ = g_model.evaluate(decoder_vali, teacher_vali, verbose = 2)\n",
    "best_weight=[g_loss]\n",
    "print(\"pre-train d-step\")\n",
    "print('d-step')    \n",
    "for d in trange(pre_d_epoch):\n",
    "    y_fake_batch, x_fake_batch = inference(           \n",
    "         g_model, \n",
    "         num_data = minibatch_size, \n",
    "         batch_size = minibatch_size,\n",
    "     )\n",
    "    seed=np.random.randint(0,num_minibatch-1)\n",
    "    d_model.fit(np.concatenate([teacher_train[minibatch_size*seed:minibatch_size*seed+minibatch_size],y_fake_batch]),\n",
    "                                np.concatenate([[[1]]*minibatch_size,[[0]]*minibatch_size]),\n",
    "                                epochs=1,\n",
    "                                batch_size=32,verbose = 0)\n",
    "for _ in range(adv_step):\n",
    "    if _%15 and _%15!=0:\n",
    "        print(\"d-step\")    \n",
    "        for d in range((batch_size//minibatch_size)*3):\n",
    "            y_fake_batch, x_fake_batch = inference(           \n",
    "                 g_model, \n",
    "                 num_data = minibatch_size, \n",
    "                 batch_size = minibatch_size,\n",
    "             )\n",
    "            seed=np.random.randint(0,num_minibatch-1)\n",
    "            d_model.fit(np.concatenate([teacher_train[minibatch_size*seed:minibatch_size*seed+minibatch_size],y_fake_batch]),\n",
    "                                        np.concatenate([[[1]]*minibatch_size,[[0]]*minibatch_size]),\n",
    "                                        epochs=1,\n",
    "                                        batch_size=32,verbose = 0)\n",
    "    reward_now=estimate_reward(g_model)\n",
    "    g_model.save_weights('2021/temp_g.h5')\n",
    "    print(\"exploration-epoch\")\n",
    "    for e in range(exploration_epoch):\n",
    "        print(\"rollout\",e)\n",
    "        de_in_mcmc, y_out_mcmc, r_out_mcmc = regs(\n",
    "        e_model, ## explorer sample\n",
    "        d_model,\n",
    "        candidate=batch_size//exploration_epoch) #fair computational intensity\n",
    "        g_model.fit(de_in_mcmc,\n",
    "                    y_out_mcmc,\n",
    "                    sample_weight=r_out_mcmc,\n",
    "                    batch_size=batch_size*max_length,\n",
    "                    epochs=1,verbose = 2)\n",
    "        reward_new=estimate_reward(g_model)\n",
    "        for key_i,i in enumerate(r_out_mcmc):\n",
    "            for key_j,j in enumerate(i):\n",
    "                if j!=0.:\n",
    "                    r_out_mcmc[key_i][key_j]=meta_reward\n",
    "        print(\"Meta-policy update explorer\")            \n",
    "        e_model.fit(de_in_mcmc,\n",
    "                    y_out_mcmc,\n",
    "                    sample_weight=r_out_mcmc,\n",
    "                    batch_size=batch_size*max_length,\n",
    "                    epochs=1,verbose = 2)\n",
    "        g_model.load_weights('2021/temp_g.h5')\n",
    "    print(\"finish-exploration\")\n",
    "    print(\"update the generator\")\n",
    "    de_in_mcmc, y_out_mcmc, r_out_mcmc = regs(\n",
    "    e_model, ## explorer sample\n",
    "    d_model,\n",
    "    candidate=batch_size//exploration_epoch) #fair computational intensity\n",
    "    g_model.fit(de_in_mcmc,\n",
    "                y_out_mcmc,\n",
    "                sample_weight=r_out_mcmc,\n",
    "                batch_size=batch_size*max_length,\n",
    "                epochs=1,\n",
    "                verbose = 0)\n",
    "    g_model.fit(decoder_train,\n",
    "                 teacher_train, \n",
    "                 batch_size=batch_size//exploration_epoch,\n",
    "                 epochs=1,\n",
    "                 verbose = 2)\n",
    "    g_loss, _ = g_model.evaluate(decoder_vali, teacher_vali, verbose = 2)\n",
    "    "
   ]
  },
  {
   "cell_type": "code",
   "execution_count": null,
   "metadata": {},
   "outputs": [],
   "source": []
  }
 ],
 "metadata": {
  "kernelspec": {
   "display_name": "Python 3",
   "language": "python",
   "name": "python3"
  },
  "language_info": {
   "codemirror_mode": {
    "name": "ipython",
    "version": 3
   },
   "file_extension": ".py",
   "mimetype": "text/x-python",
   "name": "python",
   "nbconvert_exporter": "python",
   "pygments_lexer": "ipython3",
   "version": "3.8.5"
  }
 },
 "nbformat": 4,
 "nbformat_minor": 4
}
