{
 "cells": [
  {
   "cell_type": "code",
   "execution_count": 1,
   "metadata": {},
   "outputs": [
    {
     "name": "stdout",
     "output_type": "stream",
     "text": [
      "[name: \"/device:CPU:0\"\n",
      "device_type: \"CPU\"\n",
      "memory_limit: 268435456\n",
      "locality {\n",
      "}\n",
      "incarnation: 13412032120593637552\n",
      ", name: \"/device:XLA_CPU:0\"\n",
      "device_type: \"XLA_CPU\"\n",
      "memory_limit: 17179869184\n",
      "locality {\n",
      "}\n",
      "incarnation: 15190689557914882988\n",
      "physical_device_desc: \"device: XLA_CPU device\"\n",
      ", name: \"/device:XLA_GPU:0\"\n",
      "device_type: \"XLA_GPU\"\n",
      "memory_limit: 17179869184\n",
      "locality {\n",
      "}\n",
      "incarnation: 11536909173661906887\n",
      "physical_device_desc: \"device: XLA_GPU device\"\n",
      ", name: \"/device:GPU:0\"\n",
      "device_type: \"GPU\"\n",
      "memory_limit: 10881024640\n",
      "locality {\n",
      "  bus_id: 1\n",
      "  links {\n",
      "  }\n",
      "}\n",
      "incarnation: 13858889789441623351\n",
      "physical_device_desc: \"device: 0, name: GeForce GTX 1080 Ti, pci bus id: 0000:03:00.0, compute capability: 6.1\"\n",
      "]\n",
      "1 Physical GPUs, 1 Logical GPUs\n"
     ]
    }
   ],
   "source": [
    "#!/usr/bin/env python3\n",
    "# -*- coding: utf-8 -*-\n",
    "\"\"\"\n",
    "Created on Thu Oct 12 12:04:31 2017\n",
    "\n",
    "@author: gama\n",
    "\"\"\"\n",
    "import os\n",
    "os.environ['CUDA_VISIBLE_DEVICES']='0'\n",
    "import tensorflow as tf\n",
    "from tensorflow.python.client import device_lib\n",
    "print(device_lib.list_local_devices())\n",
    "gpus = tf.config.experimental.list_physical_devices('GPU')\n",
    "if gpus:\n",
    "    try:\n",
    "        # Currently, memory growth needs to be the same across GPUs\n",
    "        for gpu in gpus:\n",
    "            tf.config.experimental.set_memory_growth(gpu, True)\n",
    "        logical_gpus = tf.config.experimental.list_logical_devices('GPU')\n",
    "        print(len(gpus), \"Physical GPUs,\", len(logical_gpus), \"Logical GPUs\")\n",
    "    except RuntimeError as e:\n",
    "        print(e)\n",
    "else:\n",
    "    print('No GPU!!')\n",
    "tf.config.set_soft_device_placement(True) "
   ]
  },
  {
   "cell_type": "code",
   "execution_count": 33,
   "metadata": {},
   "outputs": [],
   "source": [
    "import pickle\n",
    "# Load data\n",
    "import numpy as np\n",
    "import random\n",
    "from tqdm import tqdm,tqdm_notebook\n",
    "import json\n",
    "#from src.utils import ruleFormatter \n",
    "from sklearn.metrics import f1_score,confusion_matrix,recall_score\n",
    "import itertools\n",
    "from functools import reduce\n",
    "from tqdm.notebook import trange"
   ]
  },
  {
   "cell_type": "code",
   "execution_count": 3,
   "metadata": {},
   "outputs": [],
   "source": [
    "from tensorflow.keras.models import Model,load_model\n",
    "from tensorflow.keras.layers import Embedding\n",
    "from tensorflow.keras.layers import Input,Dense,Reshape,concatenate,Flatten,Activation,Permute,multiply\n",
    "from tensorflow.keras.layers import GRU,Conv1D,GlobalMaxPooling1D,TimeDistributed,RepeatVector,LSTM,MaxPooling1D\n",
    "from tensorflow.keras import optimizers\n",
    "from tensorflow.keras.callbacks import EarlyStopping\n",
    "from tensorflow.keras.layers import Lambda,Dropout\n",
    "from tensorflow.keras.layers import BatchNormalization"
   ]
  },
  {
   "cell_type": "code",
   "execution_count": 4,
   "metadata": {},
   "outputs": [],
   "source": [
    "max_length=20\n",
    "num_words=5000\n",
    "embedding_dict=num_words\n",
    "batch_size=64\n",
    "start_label=0"
   ]
  },
  {
   "cell_type": "code",
   "execution_count": 46,
   "metadata": {},
   "outputs": [],
   "source": [
    "MLE_epoch=100\n",
    "pre_d_epoch=100\n",
    "adv_step=100"
   ]
  },
  {
   "cell_type": "code",
   "execution_count": 5,
   "metadata": {},
   "outputs": [],
   "source": [
    "def inference(\n",
    "    model, \n",
    "    inpData = None,\n",
    "    start_on = 0,\n",
    "    end_on = max_length,\n",
    "    num_data = 10, \n",
    "    batch_size = 10,\n",
    "    que_pad = max_length,\n",
    "):\n",
    "    # Initialize\n",
    "    num_batch = (num_data-1)//batch_size +1\n",
    "    resp_pred_list = None\n",
    "    in_batch_list = None\n",
    "    the_first = True\n",
    "    idx = np.arange(num_words)\n",
    "    for b in range(num_batch):\n",
    "        in_batch = np.zeros((batch_size, que_pad), dtype = int)\n",
    "        if start_on == 0:\n",
    "            in_batch[:,0] = 0\n",
    "        else:\n",
    "            in_batch = inpData[b*batch_size:(b+1)*batch_size]\n",
    "        resp_pred = np.zeros((batch_size, que_pad), dtype = int)\n",
    "        # Generate the sequence recurrsively.\n",
    "        for i in range(start_on, end_on):\n",
    "            # Run\n",
    "            resp_pred_wv = model.predict(in_batch)\n",
    "            the_last = resp_pred_wv[:,i]\n",
    "            the_last = np.array([np.random.choice(idx, p=i) for i in the_last])\n",
    "            try:\n",
    "                resp_pred[:,i] = the_last\n",
    "                in_batch[:,i+1] = the_last\n",
    "            except:\n",
    "                resp_pred[:,i] = the_last\n",
    "        for i in range(len(resp_pred)):\n",
    "            try:\n",
    "                index = list(resp_pred[i]).index(60000)\n",
    "            except:\n",
    "                continue\n",
    "            resp_pred[i,index+1:] = 0\n",
    "            in_batch[i,index+1:] = 0\n",
    "        if the_first:\n",
    "            resp_pred_list = resp_pred\n",
    "            in_batch_list = in_batch\n",
    "            the_first = False\n",
    "        else:\n",
    "            resp_pred_list = np.vstack((resp_pred_list, resp_pred))\n",
    "            in_batch_list = np.vstack((in_batch_list, in_batch))\n",
    "    resp_pred_list = resp_pred_list[:num_data]\n",
    "    in_batch_list = in_batch_list[:num_data]\n",
    "    if start_on != 0:\n",
    "        resp_pred_list[:,:start_on] = inpData[:,1:start_on+1]\n",
    "        in_batch_list[:, :start_on+1] = inpData[:,:start_on+1]\n",
    "    return resp_pred_list, in_batch_list"
   ]
  },
  {
   "cell_type": "code",
   "execution_count": 6,
   "metadata": {},
   "outputs": [],
   "source": [
    "def inference(\n",
    "    model, \n",
    "    inpData = None,\n",
    "    start_on = 0,\n",
    "    end_on = max_length,\n",
    "    num_data = 20000, \n",
    "    batch_size = 64,\n",
    "    que_pad = max_length,\n",
    "):\n",
    "    # Initialize\n",
    "    num_batch = (num_data-1)//batch_size +1\n",
    "    resp_pred_list = None\n",
    "    in_batch_list = None\n",
    "    the_first = True\n",
    "    idx = np.arange(num_words)\n",
    "    for b in range(num_batch):\n",
    "        in_batch = np.zeros((batch_size, que_pad), dtype = int)\n",
    "        if start_on == 0:\n",
    "            in_batch[:,0] = start_label#embedding_dict['BOS']\n",
    "        else:\n",
    "            in_batch = inpData[b*batch_size:(b+1)*batch_size]\n",
    "        resp_pred = np.zeros((batch_size, que_pad), dtype = int)\n",
    "        # Generate the sequence recurrsively.\n",
    "        for i in range(start_on, end_on):\n",
    "            # Run\n",
    "            resp_pred_wv = model.predict(in_batch)\n",
    "            the_last = resp_pred_wv[:,i]\n",
    "            the_last = np.array([np.random.choice(idx, p=i) for i in the_last])\n",
    "            try:\n",
    "                resp_pred[:,i] = the_last\n",
    "                in_batch[:,i+1] = the_last\n",
    "            except:\n",
    "                resp_pred[:,i] = the_last\n",
    "        for i in range(len(resp_pred)):\n",
    "            try:\n",
    "                index = list(resp_pred[i]).index(6000)#embedding_dict['EOS'])\n",
    "            except:\n",
    "                continue\n",
    "            resp_pred[i,index+1:] = 0\n",
    "            in_batch[i,index+1:] = 0\n",
    "        if the_first:\n",
    "            resp_pred_list = resp_pred\n",
    "            in_batch_list = in_batch\n",
    "            the_first = False\n",
    "        else:\n",
    "            resp_pred_list = np.vstack((resp_pred_list, resp_pred))\n",
    "            in_batch_list = np.vstack((in_batch_list, in_batch))        \n",
    "    resp_pred_list = resp_pred_list[:num_data]\n",
    "    in_batch_list = in_batch_list[:num_data]\n",
    "    if start_on != 0:\n",
    "        resp_pred_list[:,:start_on] = inpData[:,1:start_on+1]\n",
    "        in_batch_list[:, :start_on+1] = inpData[:,:start_on+1]\n",
    "    return resp_pred_list, in_batch_list#prediction,decoder input"
   ]
  },
  {
   "cell_type": "code",
   "execution_count": 7,
   "metadata": {},
   "outputs": [],
   "source": [
    "def getoracle():\n",
    "    dim=32\n",
    "    input1 = Input(shape=(max_length,))\n",
    "    emb=Embedding(num_words+1,dim)\n",
    "    context=emb(input1)\n",
    "    LSTM_input = LSTM(dim,return_sequences=True)(context)\n",
    "    predict = Dense(num_words,activation=\"softmax\")(LSTM_input)\n",
    "    model = Model(inputs=input1, outputs=predict)\n",
    "    return model"
   ]
  },
  {
   "cell_type": "code",
   "execution_count": 8,
   "metadata": {},
   "outputs": [],
   "source": [
    "def getG():\n",
    "    dim=32\n",
    "    input1 = Input(shape=(max_length,))\n",
    "    emb=Embedding(num_words+1,dim)\n",
    "    context=emb(input1)\n",
    "    LSTM_input = LSTM(dim,return_sequences=True)(context)\n",
    "    predict = Dense(num_words,activation=\"softmax\")(LSTM_input)\n",
    "    model = Model(inputs=input1, outputs=predict)\n",
    "    return model"
   ]
  },
  {
   "cell_type": "code",
   "execution_count": 9,
   "metadata": {},
   "outputs": [],
   "source": [
    "def getD():\n",
    "    dim=64\n",
    "    resp = Input((max_length,))\n",
    "    embedding =Embedding(num_words,\n",
    "                         dim,\n",
    "                         mask_zero=False,\n",
    "                         input_length=(max_length),\n",
    "                         trainable = True)\n",
    "    resp_emb = embedding(resp)\n",
    "    context = Conv1D(dim*2,5)(resp_emb)\n",
    "    context=BatchNormalization()(context)\n",
    "    context = GlobalMaxPooling1D()(context)\n",
    "    #context= LSTM(wv_dim)(resp_emb)\n",
    "    #context= LayerNormalization()(context)\n",
    "    scalar = Dense(1, activation = 'sigmoid')(context)\n",
    "    model = Model(\n",
    "        resp,\n",
    "        scalar\n",
    "    )\n",
    "    return model"
   ]
  },
  {
   "cell_type": "code",
   "execution_count": 10,
   "metadata": {},
   "outputs": [],
   "source": [
    "oracle=getoracle()\n",
    "oracle.compile(loss='sparse_categorical_crossentropy', optimizer='adam',metrics=['accuracy'])"
   ]
  },
  {
   "cell_type": "code",
   "execution_count": 11,
   "metadata": {},
   "outputs": [],
   "source": [
    "teacher_pred, decoder_pred = inference(\n",
    "    oracle, \n",
    "    num_data = 20000, \n",
    "    batch_size = 64,    \n",
    ")"
   ]
  },
  {
   "cell_type": "code",
   "execution_count": 12,
   "metadata": {},
   "outputs": [
    {
     "name": "stdout",
     "output_type": "stream",
     "text": [
      "(20000, 20) (20000, 20)\n"
     ]
    }
   ],
   "source": [
    "print(teacher_pred.shape,decoder_pred.shape)"
   ]
  },
  {
   "cell_type": "code",
   "execution_count": 13,
   "metadata": {},
   "outputs": [],
   "source": [
    "def oracle_loss():\n",
    "    decoder_eva, teacher_eva  = inference(\n",
    "        g_model, \n",
    "        num_data = 500, \n",
    "        batch_size = 64,    \n",
    "    )\n",
    "    nll_oralcle_loss=oracle.evaluate(decoder_eva,teacher_eva,verbose=0)\n",
    "    return nll_oralcle_loss[0]"
   ]
  },
  {
   "cell_type": "code",
   "execution_count": 14,
   "metadata": {},
   "outputs": [],
   "source": [
    "decoder_train=decoder_pred[:10000] \n",
    "teacher_train=teacher_pred[:10000]\n",
    "decoder_vali=decoder_pred[10000:] \n",
    "teacher_vali=teacher_pred[10000:]"
   ]
  },
  {
   "cell_type": "markdown",
   "metadata": {},
   "source": [
    "## MLE-pretraining"
   ]
  },
  {
   "cell_type": "code",
   "execution_count": 15,
   "metadata": {},
   "outputs": [
    {
     "name": "stdout",
     "output_type": "stream",
     "text": [
      "157/157 - 4s - loss: 8.5172 - accuracy: 1.4500e-04 - val_loss: 8.5173 - val_accuracy: 2.2500e-04\n",
      "157/157 - 4s - loss: 8.5136 - accuracy: 2.3500e-04 - val_loss: 8.5186 - val_accuracy: 2.2500e-04\n",
      "157/157 - 4s - loss: 8.4992 - accuracy: 3.6000e-04 - val_loss: 8.5288 - val_accuracy: 1.9500e-04\n",
      "157/157 - 4s - loss: 8.4616 - accuracy: 5.8500e-04 - val_loss: 8.5483 - val_accuracy: 2.1500e-04\n",
      "157/157 - 4s - loss: 8.4130 - accuracy: 9.0000e-04 - val_loss: 8.5808 - val_accuracy: 1.6000e-04\n",
      "157/157 - 4s - loss: 8.3665 - accuracy: 0.0012 - val_loss: 8.6053 - val_accuracy: 2.0500e-04\n",
      "157/157 - 4s - loss: 8.3248 - accuracy: 0.0016 - val_loss: 8.6330 - val_accuracy: 1.8000e-04\n",
      "157/157 - 4s - loss: 8.2873 - accuracy: 0.0018 - val_loss: 8.6572 - val_accuracy: 1.7500e-04\n",
      "157/157 - 4s - loss: 8.2528 - accuracy: 0.0023 - val_loss: 8.6747 - val_accuracy: 2.0000e-04\n",
      "157/157 - 4s - loss: 8.2208 - accuracy: 0.0026 - val_loss: 8.6946 - val_accuracy: 1.8000e-04\n",
      "157/157 - 4s - loss: 8.1913 - accuracy: 0.0029 - val_loss: 8.7134 - val_accuracy: 1.6500e-04\n",
      "157/157 - 4s - loss: 8.1629 - accuracy: 0.0031 - val_loss: 8.7344 - val_accuracy: 1.7000e-04\n",
      "157/157 - 4s - loss: 8.1364 - accuracy: 0.0035 - val_loss: 8.7525 - val_accuracy: 2.1000e-04\n",
      "157/157 - 4s - loss: 8.1106 - accuracy: 0.0037 - val_loss: 8.7730 - val_accuracy: 1.6500e-04\n",
      "157/157 - 4s - loss: 8.0858 - accuracy: 0.0041 - val_loss: 8.7863 - val_accuracy: 1.7500e-04\n",
      "157/157 - 4s - loss: 8.0627 - accuracy: 0.0041 - val_loss: 8.8062 - val_accuracy: 1.8500e-04\n",
      "157/157 - 4s - loss: 8.0410 - accuracy: 0.0046 - val_loss: 8.8266 - val_accuracy: 2.1000e-04\n",
      "157/157 - 4s - loss: 8.0192 - accuracy: 0.0048 - val_loss: 8.8455 - val_accuracy: 2.0500e-04\n",
      "157/157 - 4s - loss: 7.9987 - accuracy: 0.0052 - val_loss: 8.8610 - val_accuracy: 2.0000e-04\n",
      "157/157 - 4s - loss: 7.9780 - accuracy: 0.0055 - val_loss: 8.8770 - val_accuracy: 2.4500e-04\n",
      "157/157 - 4s - loss: 7.9586 - accuracy: 0.0058 - val_loss: 8.8945 - val_accuracy: 2.0500e-04\n",
      "157/157 - 4s - loss: 7.9403 - accuracy: 0.0060 - val_loss: 8.9099 - val_accuracy: 2.3500e-04\n",
      "157/157 - 4s - loss: 7.9227 - accuracy: 0.0060 - val_loss: 8.9255 - val_accuracy: 2.4000e-04\n",
      "157/157 - 4s - loss: 7.9050 - accuracy: 0.0066 - val_loss: 8.9412 - val_accuracy: 2.0000e-04\n",
      "157/157 - 4s - loss: 7.8878 - accuracy: 0.0068 - val_loss: 8.9561 - val_accuracy: 2.3500e-04\n",
      "157/157 - 4s - loss: 7.8703 - accuracy: 0.0072 - val_loss: 8.9739 - val_accuracy: 1.8500e-04\n",
      "157/157 - 4s - loss: 7.8550 - accuracy: 0.0072 - val_loss: 8.9892 - val_accuracy: 2.0000e-04\n",
      "157/157 - 4s - loss: 7.8392 - accuracy: 0.0076 - val_loss: 9.0013 - val_accuracy: 2.2500e-04\n",
      "157/157 - 4s - loss: 7.8230 - accuracy: 0.0080 - val_loss: 9.0175 - val_accuracy: 2.1500e-04\n",
      "157/157 - 4s - loss: 7.8090 - accuracy: 0.0082 - val_loss: 9.0376 - val_accuracy: 2.3500e-04\n",
      "157/157 - 4s - loss: 7.7939 - accuracy: 0.0085 - val_loss: 9.0486 - val_accuracy: 2.1000e-04\n",
      "157/157 - 4s - loss: 7.7798 - accuracy: 0.0086 - val_loss: 9.0588 - val_accuracy: 2.6000e-04\n",
      "157/157 - 4s - loss: 7.7660 - accuracy: 0.0090 - val_loss: 9.0744 - val_accuracy: 2.4500e-04\n",
      "157/157 - 4s - loss: 7.7508 - accuracy: 0.0090 - val_loss: 9.0877 - val_accuracy: 2.3500e-04\n",
      "157/157 - 4s - loss: 7.7370 - accuracy: 0.0095 - val_loss: 9.1025 - val_accuracy: 1.9500e-04\n",
      "157/157 - 4s - loss: 7.7255 - accuracy: 0.0096 - val_loss: 9.1174 - val_accuracy: 2.2500e-04\n",
      "157/157 - 4s - loss: 7.7133 - accuracy: 0.0096 - val_loss: 9.1326 - val_accuracy: 2.2500e-04\n",
      "157/157 - 4s - loss: 7.7010 - accuracy: 0.0100 - val_loss: 9.1436 - val_accuracy: 2.4000e-04\n",
      "157/157 - 4s - loss: 7.6897 - accuracy: 0.0100 - val_loss: 9.1543 - val_accuracy: 2.5000e-04\n",
      "157/157 - 4s - loss: 7.6778 - accuracy: 0.0102 - val_loss: 9.1696 - val_accuracy: 2.3000e-04\n",
      "157/157 - 4s - loss: 7.6651 - accuracy: 0.0106 - val_loss: 9.1835 - val_accuracy: 2.1000e-04\n",
      "157/157 - 4s - loss: 7.6528 - accuracy: 0.0110 - val_loss: 9.1966 - val_accuracy: 2.3500e-04\n",
      "157/157 - 4s - loss: 7.6411 - accuracy: 0.0111 - val_loss: 9.2105 - val_accuracy: 2.0500e-04\n",
      "157/157 - 4s - loss: 7.6311 - accuracy: 0.0113 - val_loss: 9.2178 - val_accuracy: 2.3000e-04\n",
      "157/157 - 4s - loss: 7.6206 - accuracy: 0.0117 - val_loss: 9.2333 - val_accuracy: 2.1000e-04\n",
      "157/157 - 4s - loss: 7.6095 - accuracy: 0.0119 - val_loss: 9.2433 - val_accuracy: 1.9500e-04\n",
      "157/157 - 4s - loss: 7.5996 - accuracy: 0.0119 - val_loss: 9.2610 - val_accuracy: 2.2500e-04\n",
      "157/157 - 4s - loss: 7.5886 - accuracy: 0.0125 - val_loss: 9.2711 - val_accuracy: 2.0000e-04\n",
      "157/157 - 4s - loss: 7.5785 - accuracy: 0.0124 - val_loss: 9.2833 - val_accuracy: 2.0500e-04\n",
      "157/157 - 4s - loss: 7.5683 - accuracy: 0.0124 - val_loss: 9.2917 - val_accuracy: 2.2000e-04\n",
      "157/157 - 4s - loss: 7.5591 - accuracy: 0.0127 - val_loss: 9.3061 - val_accuracy: 2.1500e-04\n",
      "157/157 - 4s - loss: 7.5493 - accuracy: 0.0130 - val_loss: 9.3173 - val_accuracy: 1.7500e-04\n",
      "157/157 - 4s - loss: 7.5397 - accuracy: 0.0132 - val_loss: 9.3299 - val_accuracy: 2.1500e-04\n",
      "157/157 - 4s - loss: 7.5297 - accuracy: 0.0136 - val_loss: 9.3405 - val_accuracy: 1.9000e-04\n",
      "157/157 - 4s - loss: 7.5212 - accuracy: 0.0140 - val_loss: 9.3469 - val_accuracy: 2.0000e-04\n",
      "157/157 - 4s - loss: 7.5133 - accuracy: 0.0141 - val_loss: 9.3615 - val_accuracy: 1.8000e-04\n",
      "157/157 - 4s - loss: 7.5059 - accuracy: 0.0140 - val_loss: 9.3754 - val_accuracy: 1.7500e-04\n",
      "157/157 - 4s - loss: 7.4969 - accuracy: 0.0144 - val_loss: 9.3808 - val_accuracy: 2.1500e-04\n",
      "157/157 - 4s - loss: 7.4867 - accuracy: 0.0144 - val_loss: 9.3922 - val_accuracy: 1.9500e-04\n",
      "157/157 - 4s - loss: 7.4792 - accuracy: 0.0152 - val_loss: 9.4017 - val_accuracy: 1.7000e-04\n",
      "157/157 - 4s - loss: 7.4703 - accuracy: 0.0152 - val_loss: 9.4159 - val_accuracy: 2.1000e-04\n",
      "157/157 - 4s - loss: 7.4627 - accuracy: 0.0149 - val_loss: 9.4275 - val_accuracy: 1.4000e-04\n",
      "157/157 - 4s - loss: 7.4546 - accuracy: 0.0152 - val_loss: 9.4336 - val_accuracy: 1.7000e-04\n",
      "157/157 - 4s - loss: 7.4453 - accuracy: 0.0159 - val_loss: 9.4463 - val_accuracy: 1.7000e-04\n",
      "157/157 - 4s - loss: 7.4405 - accuracy: 0.0159 - val_loss: 9.4539 - val_accuracy: 1.5500e-04\n",
      "157/157 - 4s - loss: 7.4323 - accuracy: 0.0157 - val_loss: 9.4678 - val_accuracy: 1.6000e-04\n",
      "157/157 - 4s - loss: 7.4243 - accuracy: 0.0160 - val_loss: 9.4767 - val_accuracy: 1.8500e-04\n",
      "157/157 - 4s - loss: 7.4185 - accuracy: 0.0163 - val_loss: 9.4859 - val_accuracy: 1.4500e-04\n",
      "157/157 - 4s - loss: 7.4117 - accuracy: 0.0165 - val_loss: 9.4951 - val_accuracy: 1.7000e-04\n",
      "157/157 - 4s - loss: 7.4053 - accuracy: 0.0166 - val_loss: 9.5044 - val_accuracy: 1.5000e-04\n",
      "157/157 - 4s - loss: 7.3984 - accuracy: 0.0170 - val_loss: 9.5155 - val_accuracy: 1.5000e-04\n",
      "157/157 - 4s - loss: 7.3882 - accuracy: 0.0170 - val_loss: 9.5210 - val_accuracy: 1.3500e-04\n",
      "157/157 - 4s - loss: 7.3805 - accuracy: 0.0172 - val_loss: 9.5318 - val_accuracy: 1.6000e-04\n",
      "157/157 - 4s - loss: 7.3770 - accuracy: 0.0174 - val_loss: 9.5457 - val_accuracy: 1.6000e-04\n",
      "157/157 - 4s - loss: 7.3699 - accuracy: 0.0176 - val_loss: 9.5492 - val_accuracy: 2.0000e-04\n",
      "157/157 - 4s - loss: 7.3638 - accuracy: 0.0175 - val_loss: 9.5626 - val_accuracy: 1.7000e-04\n",
      "157/157 - 4s - loss: 7.3586 - accuracy: 0.0178 - val_loss: 9.5690 - val_accuracy: 2.0000e-04\n",
      "157/157 - 4s - loss: 7.3519 - accuracy: 0.0180 - val_loss: 9.5788 - val_accuracy: 1.7500e-04\n",
      "157/157 - 4s - loss: 7.3451 - accuracy: 0.0181 - val_loss: 9.5852 - val_accuracy: 2.2000e-04\n",
      "157/157 - 4s - loss: 7.3403 - accuracy: 0.0182 - val_loss: 9.5960 - val_accuracy: 1.8500e-04\n",
      "157/157 - 4s - loss: 7.3343 - accuracy: 0.0182 - val_loss: 9.6063 - val_accuracy: 1.8500e-04\n",
      "157/157 - 4s - loss: 7.3278 - accuracy: 0.0187 - val_loss: 9.6106 - val_accuracy: 2.0000e-04\n",
      "157/157 - 4s - loss: 7.3208 - accuracy: 0.0185 - val_loss: 9.6189 - val_accuracy: 1.9500e-04\n",
      "157/157 - 4s - loss: 7.3152 - accuracy: 0.0190 - val_loss: 9.6301 - val_accuracy: 1.9000e-04\n",
      "157/157 - 4s - loss: 7.3115 - accuracy: 0.0188 - val_loss: 9.6365 - val_accuracy: 2.0000e-04\n",
      "157/157 - 4s - loss: 7.3055 - accuracy: 0.0187 - val_loss: 9.6475 - val_accuracy: 1.9500e-04\n",
      "157/157 - 4s - loss: 7.3016 - accuracy: 0.0191 - val_loss: 9.6538 - val_accuracy: 1.7000e-04\n",
      "157/157 - 4s - loss: 7.2953 - accuracy: 0.0196 - val_loss: 9.6635 - val_accuracy: 1.4000e-04\n",
      "157/157 - 4s - loss: 7.2900 - accuracy: 0.0193 - val_loss: 9.6706 - val_accuracy: 2.1500e-04\n",
      "157/157 - 4s - loss: 7.2834 - accuracy: 0.0201 - val_loss: 9.6799 - val_accuracy: 1.6000e-04\n",
      "157/157 - 4s - loss: 7.2802 - accuracy: 0.0198 - val_loss: 9.6879 - val_accuracy: 2.0500e-04\n",
      "157/157 - 4s - loss: 7.2744 - accuracy: 0.0201 - val_loss: 9.6941 - val_accuracy: 1.8500e-04\n",
      "157/157 - 4s - loss: 7.2700 - accuracy: 0.0206 - val_loss: 9.7070 - val_accuracy: 1.8500e-04\n",
      "157/157 - 4s - loss: 7.2637 - accuracy: 0.0203 - val_loss: 9.7078 - val_accuracy: 1.9500e-04\n",
      "157/157 - 4s - loss: 7.2594 - accuracy: 0.0203 - val_loss: 9.7190 - val_accuracy: 1.7500e-04\n",
      "157/157 - 4s - loss: 7.2543 - accuracy: 0.0207 - val_loss: 9.7266 - val_accuracy: 1.8500e-04\n",
      "157/157 - 4s - loss: 7.2511 - accuracy: 0.0205 - val_loss: 9.7332 - val_accuracy: 1.6000e-04\n",
      "157/157 - 4s - loss: 7.2471 - accuracy: 0.0208 - val_loss: 9.7422 - val_accuracy: 1.9500e-04\n",
      "157/157 - 4s - loss: 7.2422 - accuracy: 0.0210 - val_loss: 9.7507 - val_accuracy: 1.6500e-04\n",
      "157/157 - 4s - loss: 7.2389 - accuracy: 0.0210 - val_loss: 9.7547 - val_accuracy: 1.8000e-04\n"
     ]
    }
   ],
   "source": [
    "g_model=getG()\n",
    "g_model.compile(loss='sparse_categorical_crossentropy', optimizer='adam',metrics=['accuracy'])\n",
    "for i in range(MLE_epoch):\n",
    "    g_model.fit(decoder_train,\n",
    "            teacher_train, \n",
    "            epochs=1, \n",
    "            batch_size=64,\n",
    "            verbose=2,\n",
    "            validation_data = (decoder_vali, teacher_vali))\n",
    "    oracle_loss()"
   ]
  },
  {
   "cell_type": "code",
   "execution_count": 16,
   "metadata": {},
   "outputs": [],
   "source": [
    "g_model.save_weights('2021/NLL.h5')\n",
    "g_model.save_weights('2021/temp_loss.h5')"
   ]
  },
  {
   "cell_type": "code",
   "execution_count": 39,
   "metadata": {},
   "outputs": [],
   "source": [
    "#2021/8/6 version\n",
    "def model_g_predict_batch(model, _inp_list, batch_size, num_data, step, **kwargs):\n",
    "    is_first = 1\n",
    "    y_out = None\n",
    "    for i in range(0, num_data, batch_size):\n",
    "        y = model.predict([_inp[i:i+batch_size] for _inp in _inp_list], **kwargs)[:,step]\n",
    "        if is_first:\n",
    "            is_first = 0\n",
    "            y_out = y\n",
    "        else:\n",
    "            y_out = np.vstack((y_out, y))\n",
    "    return y_out\n",
    "\n",
    "def model_predict_batch(model, _inp_list, batch_size, num_data, **kwargs):\n",
    "    y_out = np.vstack(\n",
    "        [ model.predict([_inp[i:i+batch_size] for _inp in _inp_list], **kwargs) \n",
    "         for i in range(0, num_data, batch_size)]\n",
    "    )\n",
    "    return y_out\n",
    "\n",
    "def regs_mcmc(model_g, model_d, de_mcmc = None, candidate = 16, start_at = 0, beam = 1):\n",
    "    # Initialize\n",
    "    y_mcmc = None\n",
    "    r_out = None\n",
    "    que_pad=max_length\n",
    "    if isinstance(de_mcmc, type(None)):\n",
    "        de_mcmc = np.zeros((1, que_pad), dtype = int)\n",
    "        de_mcmc[:,0] = start_label\n",
    "    y_mcmc = np.zeros((1, que_pad), dtype = int)\n",
    "    y_mcmc[0,:start_at] = de_mcmc[0, 1:start_at+1]#fix the previous step\n",
    "    # It determines which word to pass down.\n",
    "    beam_list = np.ones(que_pad, dtype = int)*beam\n",
    "    beam_list[:start_at+1] = 1    \n",
    "    revC = num_words - candidate -1\n",
    "    # bcList stands for beam-candidate list\n",
    "    bcList = []\n",
    "    for i in range(que_pad):\n",
    "        if i < start_at:\n",
    "            bcList.append([])\n",
    "        elif i == start_at:\n",
    "            bcList.append([revC])\n",
    "        elif i > start_at:\n",
    "            bcList.append(list(range(num_words-beam_list[i], num_words)))\n",
    "        else:\n",
    "            print('Warning')\n",
    "    # Generate sequences using MCMC\n",
    "    for t in range(start_at, que_pad):\n",
    "        to_expand = beam_list[t]\n",
    "        the_last = model_g_predict_batch(\n",
    "            model_g, \n",
    "            [de_mcmc], \n",
    "            batch_size = 512, \n",
    "            num_data = len(de_mcmc), \n",
    "            step = t,\n",
    "        )\n",
    "        most_possible = np.argsort(the_last, axis = 1)\n",
    "        most_possible = np.transpose(\n",
    "            most_possible[:,bcList[t]]).reshape(\n",
    "            reduce(lambda x,y: x*y, beam_list[:t+1])\n",
    "        )\n",
    "        de_mcmc = np.tile(de_mcmc, (to_expand, 1))\n",
    "        y_mcmc = np.tile(y_mcmc, (to_expand, 1))\n",
    "        y_mcmc[:,t] = most_possible\n",
    "        if t+1 < max_length: #10? \n",
    "            de_mcmc[:,t+1] = most_possible\n",
    "    # Rank all synthetic sequences\n",
    "    de_in = de_mcmc[-1,start_at]\n",
    "    y_out = y_mcmc[-1,start_at]\n",
    "    r_mcmc = model_predict_batch(model_d, [y_mcmc], batch_size = 512, num_data = len(y_mcmc))\n",
    "    r_out = np.mean(r_mcmc)\n",
    "    # Rank each tokens\n",
    "    return de_in, y_out, r_out\n",
    "def regs(model_g, model_d, candidate = 64, beam = 1):\n",
    "    que_pad=max_length\n",
    "    de_in = np.zeros((candidate*que_pad, que_pad), dtype = int)\n",
    "    de_in[:,0] = start_label\n",
    "    y_out = np.zeros((candidate*que_pad, que_pad), dtype = int)\n",
    "    r_out = np.zeros((candidate*que_pad, que_pad))\n",
    "    for q in trange(que_pad):\n",
    "        if q > 0:\n",
    "            # Set the previous token by the stochastic one.\n",
    "            y_stochastic, de_stochastic = inference(model_g, num_data = 1)\n",
    "            de_in[candidate*q:, :q+1] = de_stochastic[0, :q+1]\n",
    "            y_out[candidate*q:, :q] = y_stochastic[0, :q]\n",
    "            r_out[candidate*q:, :q] = 0\n",
    "            #r_out[candidate*q:, :q] = 1\n",
    "        for c in range(candidate):\n",
    "            row = q*candidate + c\n",
    "            _, y_tmp, r_tmp = regs_mcmc(\n",
    "                model_g,\n",
    "                model_d,\n",
    "                de_in[row].reshape((1,-1)),\n",
    "                candidate = c,\n",
    "                start_at = q,\n",
    "                beam = beam,\n",
    "            )\n",
    "            y_out[row,q] = y_tmp\n",
    "            r_out[row,q] = r_tmp\n",
    "        # Variance reducing\n",
    "        r_mean = np.mean(r_out[q*candidate:(q+1)*candidate, q])\n",
    "        r_out[q*candidate:(q+1)*candidate, q] = r_out[q*candidate:(q+1)*candidate, q] - r_mean\n",
    "    return de_in, y_out, r_out"
   ]
  },
  {
   "cell_type": "code",
   "execution_count": 40,
   "metadata": {},
   "outputs": [],
   "source": [
    "g_model=getG()\n",
    "g_model.compile(loss='sparse_categorical_crossentropy', optimizer='adam',metrics=['accuracy'])\n",
    "g_model.load_weights('2021/NLL.h5')\n",
    "d_model=getD()\n",
    "d_model.compile('adam',loss='BinaryCrossentropy',metrics=['accuracy'])"
   ]
  },
  {
   "cell_type": "code",
   "execution_count": 41,
   "metadata": {},
   "outputs": [],
   "source": [
    "e_model=getG()\n",
    "e_model.compile(loss='sparse_categorical_crossentropy', optimizer='adam',metrics=['accuracy'])\n",
    "e_model.load_weights('2021/NLL.h5')"
   ]
  },
  {
   "cell_type": "code",
   "execution_count": 42,
   "metadata": {},
   "outputs": [
    {
     "name": "stdout",
     "output_type": "stream",
     "text": [
      "10000\n"
     ]
    }
   ],
   "source": [
    "batch_size = 64\n",
    "minibatch_size = 16\n",
    "epoch = 300\n",
    "num_minibatch = int(len(teacher_train)//minibatch_size)\n",
    "num_batch = int(len(teacher_train)//batch_size)\n",
    "print(len(teacher_train))"
   ]
  },
  {
   "cell_type": "markdown",
   "metadata": {},
   "source": [
    "# MetaEx-GAN"
   ]
  },
  {
   "cell_type": "markdown",
   "metadata": {},
   "source": [
    "### MetaEx_GAN Train D"
   ]
  },
  {
   "cell_type": "code",
   "execution_count": 43,
   "metadata": {},
   "outputs": [
    {
     "name": "stdout",
     "output_type": "stream",
     "text": [
      "313/313 - 2s - loss: 9.7547 - accuracy: 1.8000e-04\n",
      "pre-train d-step\n",
      "d-step\n"
     ]
    }
   ],
   "source": [
    "g_loss, _ = g_model.evaluate(decoder_vali, teacher_vali, verbose = 2)\n",
    "best_weight=[g_loss]\n",
    "\n",
    "print(\"pre-train d-step\")\n",
    "print('d-step')    \n",
    "for d in trange((batch_size//minibatch_size)*pre_d_epoch):\n",
    "    y_fake_batch, x_fake_batch = inference(           \n",
    "         g_model, \n",
    "         num_data = minibatch_size, \n",
    "         batch_size = minibatch_size,\n",
    "     )\n",
    "    seed=np.random.randint(0,num_minibatch-1)\n",
    "    d_model.fit(np.concatenate([teacher_train[minibatch_size*seed:minibatch_size*seed+minibatch_size],y_fake_batch]),\n",
    "                                np.concatenate([[[1]]*minibatch_size,[[0]]*minibatch_size]),\n",
    "                                epochs=1,\n",
    "                                batch_size=32,verbose = 0)"
   ]
  },
  {
   "cell_type": "markdown",
   "metadata": {},
   "source": [
    "### G reward"
   ]
  },
  {
   "cell_type": "code",
   "execution_count": 44,
   "metadata": {},
   "outputs": [
    {
     "name": "stdout",
     "output_type": "stream",
     "text": [
      "0.4873511\n"
     ]
    }
   ],
   "source": [
    "y_fake_batch, x_fake_batch = inference(           \n",
    "     g_model, \n",
    "     num_data = 128, \n",
    "     batch_size = 64,\n",
    " )\n",
    "G_reward_now=d_model.predict(np.array(y_fake_batch),batch_size=32)\n",
    "G_reward_now=np.mean(G_reward_now,axis=0)[0]\n",
    "print(G_reward_now)"
   ]
  },
  {
   "cell_type": "markdown",
   "metadata": {},
   "source": [
    "### MetaEx_GAN Train G"
   ]
  },
  {
   "cell_type": "markdown",
   "metadata": {},
   "source": [
    "#### MC-Search"
   ]
  },
  {
   "cell_type": "code",
   "execution_count": 45,
   "metadata": {},
   "outputs": [
    {
     "name": "stdout",
     "output_type": "stream",
     "text": [
      "g-step\n",
      "rollout\n"
     ]
    },
    {
     "data": {
      "application/vnd.jupyter.widget-view+json": {
       "model_id": "6ee610e10bfe4cfe8555f731bb89d87e",
       "version_major": 2,
       "version_minor": 0
      },
      "text/plain": [
       "HBox(children=(HTML(value=''), FloatProgress(value=0.0, max=20.0), HTML(value='')))"
      ]
     },
     "metadata": {},
     "output_type": "display_data"
    },
    {
     "name": "stdout",
     "output_type": "stream",
     "text": [
      "\n"
     ]
    }
   ],
   "source": [
    "print(\"g-step\")\n",
    "print(\"rollout\")\n",
    "de_in_mcmc, y_out_mcmc, r_out_mcmc = regs(\n",
    "    e_model, ##\n",
    "    d_model, \n",
    ")"
   ]
  },
  {
   "cell_type": "markdown",
   "metadata": {},
   "source": [
    "#### Policy gradient {update Generator}"
   ]
  },
  {
   "cell_type": "code",
   "execution_count": 47,
   "metadata": {},
   "outputs": [
    {
     "name": "stdout",
     "output_type": "stream",
     "text": [
      "policy update G\n",
      "1/1 - 0s - loss: -2.9087e-05 - accuracy: 0.0083\n",
      "79/79 - 2s - loss: 7.2195 - accuracy: 0.0217\n"
     ]
    },
    {
     "data": {
      "text/plain": [
       "<tensorflow.python.keras.callbacks.History at 0x7f8266a94130>"
      ]
     },
     "execution_count": 47,
     "metadata": {},
     "output_type": "execute_result"
    }
   ],
   "source": [
    "print(\"policy update G\")\n",
    "g_model.fit(de_in_mcmc,\n",
    "            y_out_mcmc,\n",
    "            sample_weight=r_out_mcmc,\n",
    "            batch_size=batch_size*max_length,\n",
    "            epochs=1,verbose = 2)\n",
    "g_model.fit(decoder_train,\n",
    "                 teacher_train, \n",
    "                 batch_size=128,\n",
    "                 epochs=1,\n",
    "                 verbose = 2)"
   ]
  },
  {
   "cell_type": "markdown",
   "metadata": {},
   "source": [
    "### G_reward_new"
   ]
  },
  {
   "cell_type": "code",
   "execution_count": 52,
   "metadata": {},
   "outputs": [
    {
     "name": "stdout",
     "output_type": "stream",
     "text": [
      "0.48638013\n"
     ]
    }
   ],
   "source": [
    "y_fake_batch, x_fake_batch = inference(           \n",
    "     g_model, \n",
    "     num_data = 128, \n",
    "     batch_size = 64,\n",
    " )\n",
    "G_reward_new=d_model.predict(np.array(y_fake_batch),batch_size=32)\n",
    "G_reward_new=np.mean(G_reward_new,axis=0)[0]\n",
    "print(G_reward_new)"
   ]
  },
  {
   "cell_type": "markdown",
   "metadata": {},
   "source": [
    "### Meta-Reward"
   ]
  },
  {
   "cell_type": "code",
   "execution_count": 53,
   "metadata": {},
   "outputs": [],
   "source": [
    "meta_reward=G_reward_new-G_reward_now"
   ]
  },
  {
   "cell_type": "code",
   "execution_count": 56,
   "metadata": {},
   "outputs": [],
   "source": [
    "for key_i,i in enumerate(r_out_mcmc):\n",
    "    for key_j,j in enumerate(i):\n",
    "        if j!=0.:\n",
    "            r_out_mcmc[key_i][key_j]=meta_reward            "
   ]
  },
  {
   "cell_type": "markdown",
   "metadata": {},
   "source": [
    "### Backtracking"
   ]
  },
  {
   "cell_type": "code",
   "execution_count": null,
   "metadata": {},
   "outputs": [],
   "source": [
    "g_model.load_weights('2021/temp_loss.h5')"
   ]
  },
  {
   "cell_type": "markdown",
   "metadata": {},
   "source": [
    "### Meta-policy gradient {update the explorer}"
   ]
  },
  {
   "cell_type": "code",
   "execution_count": 58,
   "metadata": {},
   "outputs": [
    {
     "name": "stdout",
     "output_type": "stream",
     "text": [
      "1/1 - 0s - loss: -2.8721e-04 - accuracy: 0.0083\n"
     ]
    },
    {
     "data": {
      "text/plain": [
       "<tensorflow.python.keras.callbacks.History at 0x7f8248a66ca0>"
      ]
     },
     "execution_count": 58,
     "metadata": {},
     "output_type": "execute_result"
    }
   ],
   "source": [
    "e_model.fit(de_in_mcmc,\n",
    "            y_out_mcmc,\n",
    "            sample_weight=r_out_mcmc,\n",
    "            batch_size=batch_size*max_length,\n",
    "            epochs=1,verbose = 2)"
   ]
  },
  {
   "cell_type": "code",
   "execution_count": null,
   "metadata": {},
   "outputs": [],
   "source": []
  }
 ],
 "metadata": {
  "kernelspec": {
   "display_name": "Python 3",
   "language": "python",
   "name": "python3"
  },
  "language_info": {
   "codemirror_mode": {
    "name": "ipython",
    "version": 3
   },
   "file_extension": ".py",
   "mimetype": "text/x-python",
   "name": "python",
   "nbconvert_exporter": "python",
   "pygments_lexer": "ipython3",
   "version": "3.8.5"
  }
 },
 "nbformat": 4,
 "nbformat_minor": 4
}
